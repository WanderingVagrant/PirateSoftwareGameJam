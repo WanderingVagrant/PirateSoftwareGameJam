{
 "cells": [
  {
   "cell_type": "code",
   "execution_count": 1,
   "metadata": {},
   "outputs": [],
   "source": [
    "#Wap to find if there was a profit or loss by takeing the cost price and selling price\n"
   ]
  },
  {
   "cell_type": "code",
   "execution_count": 2,
   "metadata": {},
   "outputs": [
    {
     "name": "stdout",
     "output_type": "stream",
     "text": [
      "Loss of 4.0\n"
     ]
    }
   ],
   "source": [
    "\n",
    "cost_price = float(input(\"Enter the cost price: \"))\n",
    "selling_price = float(input(\"Enter the selling price: \"))\n",
    "\n",
    "# Calculate the difference\n",
    "difference = selling_price - cost_price\n",
    "\n",
    "# Determine profit or loss\n",
    "if difference > 0:\n",
    "    print(\"Profit of\", difference)\n",
    "elif difference < 0:\n",
    "    print(\"Loss of\", -difference)  # Convert negative to positive for loss amount\n",
    "else:\n",
    "    print(\"No profit, no loss.\")\n"
   ]
  },
  {
   "cell_type": "code",
   "execution_count": 6,
   "metadata": {},
   "outputs": [
    {
     "name": "stdout",
     "output_type": "stream",
     "text": [
      "Total bill: Rs. 28.799999999999997\n"
     ]
    }
   ],
   "source": [
    "#wap to input electricity bill and calculate the total bill amount fist 50 units = 0.5 rupee per unit next 100 units = 0.75 rupee per unit next 100 units = 1.20 rupee per unit above 100 units = 1.20 rupee per unit for above 250 units = 1,50 rupee per unit\n",
    "units = int(input(\"Enter the units consumed: \"))\n",
    "\n",
    "# Calculate the total bill\n",
    "if units <= 50:\n",
    "    bill = units * 0.5\n",
    "elif units <= 150:\n",
    "    bill = 50 * 0.5 + (units - 50) * 0.75\n",
    "elif units <= 250:\n",
    "    bill = 50 * 0.5 + 100 * 0.75 + (units - 150) * 1.20\n",
    "else:\n",
    "    bill = 50 * 0.5 + 100 * 0.75 + 100 * 1.20 + (units - 250) * 1.50\n",
    "bill = bill*1.2\n",
    "\n",
    "print(\"Total bill: Rs.\", bill)"
   ]
  },
  {
   "cell_type": "code",
   "execution_count": 7,
   "metadata": {},
   "outputs": [
    {
     "name": "stdout",
     "output_type": "stream",
     "text": [
      "range(0, 10)\n"
     ]
    }
   ],
   "source": [
    "print(range(10))"
   ]
  },
  {
   "cell_type": "code",
   "execution_count": 10,
   "metadata": {},
   "outputs": [
    {
     "name": "stdout",
     "output_type": "stream",
     "text": [
      "50\n",
      "52\n",
      "54\n",
      "56\n",
      "58\n",
      "60\n",
      "62\n",
      "64\n",
      "66\n",
      "68\n",
      "70\n",
      "72\n",
      "74\n",
      "76\n",
      "78\n",
      "80\n",
      "82\n",
      "84\n",
      "86\n",
      "88\n",
      "90\n",
      "92\n",
      "94\n",
      "96\n",
      "98\n",
      "100\n",
      "102\n",
      "104\n",
      "106\n",
      "108\n",
      "110\n",
      "112\n",
      "114\n",
      "116\n",
      "118\n",
      "120\n",
      "122\n",
      "124\n",
      "126\n",
      "128\n",
      "130\n",
      "132\n",
      "134\n",
      "136\n",
      "138\n",
      "140\n",
      "142\n",
      "144\n",
      "146\n",
      "148\n",
      "150\n"
     ]
    }
   ],
   "source": [
    "#wap to print even betwween 50 to 150 using for loop\n",
    "\n",
    "for i in range(50, 151, 2):\n",
    "    print(i,)\n"
   ]
  },
  {
   "cell_type": "code",
   "execution_count": null,
   "metadata": {},
   "outputs": [],
   "source": []
  }
 ],
 "metadata": {
  "kernelspec": {
   "display_name": "Python 3",
   "language": "python",
   "name": "python3"
  },
  "language_info": {
   "codemirror_mode": {
    "name": "ipython",
    "version": 3
   },
   "file_extension": ".py",
   "mimetype": "text/x-python",
   "name": "python",
   "nbconvert_exporter": "python",
   "pygments_lexer": "ipython3",
   "version": "3.7.1"
  }
 },
 "nbformat": 4,
 "nbformat_minor": 2
}
